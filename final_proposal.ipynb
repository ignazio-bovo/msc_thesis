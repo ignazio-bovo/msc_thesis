{
 "cells": [
  {
   "cell_type": "markdown",
   "metadata": {},
   "source": [
    "#### Notation\n",
    "\n",
    "* $a_t$ = ask price\n",
    "* $b_t$ = bid price\n",
    "* $s_t = a_t - b_t$ = bid ask spread\n",
    "* $x \\cdot y$ standard dot product between two vectors in $\\mathbb R^N$\n",
    "* $\\mathbb{I}_{A}(x)$ = indicator function for set $A \\subset \\mathbb R^N$\n",
    "* $[x]_+ = |x| \\mathbb{I}_{x > 0} = \\max(x,0)$ = positive part of $x \\in \\mathbb R$\n",
    "* $[x]_- = |x| \\mathbb{I}_{x < 0} = -\\min(x,0)$ = negative part of $x \\in \\mathbb R$\n",
    "\n",
    "## Problem description\n",
    "Consider $T$ trading rounds $t = 1,\\ldots, T$ at each trading round agent observes the current \n",
    "ask and bid prices, and possibly other order book information, he then has to come up with: \n",
    "* trade direction $d_t$, $d_t = 1$ agent will buy, $d_t = -1$ agent will sell, $d_t = 0 $ agent won't take action \n",
    "* price deviation: $Z_t$, deviation from the current bid (if $d_t = -1$) or ask( if $d_t = 1$). \n",
    "\n",
    "The agent hopes to make profit by issuing a market order at the current bid/ask price $p_t$ and then placing a \n",
    "limit order at $p_t + Z_t$.\n",
    "\n",
    "## Solution\n",
    "Let:\n",
    "\n",
    "* $u_t = b_{t+1} - a_t$, if $u_t > 0$ then the agent will have a profit opportunity\n",
    "\n",
    "* $v_t = a_{t+1} - b_t$, if $v_t < 0$ then the agent willa have a profit opportunity to exploit\n",
    "\n",
    "$d_t^u, d_t^v$ is the agent prediction for the sign of $u_t$, $v_t$ respectively.  \n",
    "$Z_t^u, Z_t^v$ is the agent prediction for $|u_t|$, $|v_t|$ respectively.  \n",
    "Notice that $v_t - u_t = s_{t+1} + s_t \\ge 0$.\n",
    "A strategy is given by a quadruple $(d_t^u, d_t^v, Z_t^u, Z_t^v)$:  \n",
    "The agent will observe current ask and bid prices $a_t,b_t$ then if $d_t^u > 0$ the agent, expecting an \n",
    "upward price movement, will issue a market\n",
    "order for one unit of asset for $a_t$ and then place a limit sell order for $a_t + Z_t^u$, hence its profit/loss \n",
    "from the trade will be $\\mathbb{I}_{d_t^u > 0} \\min(Z_t^u, u_t)$. The profit/loss deriving from a downward price movent\n",
    "is obtained in a similar fashion: the agent predicting $d_t^v < 0$ will cross the spread by selling short one unit \n",
    "of asset at $b_t$ and place a limit buy order at $b_t - Z_t^v$. \n",
    "\n",
    "The payoff at each round is given by :\n",
    "\n",
    "$$\n",
    "\\begin{align*}\n",
    "\\text{PO}_t &= \n",
    "\\mathbb{I}_{d_t^u > 0} \\min(Z_t^u,[u_t]_+) - \\mathbb{I}_{d_t^u > 0} [u_t]_-\n",
    "+\n",
    "\\mathbb{I}_{d_t^v < 0} \\min(Z_t^v,[v_t]_-) - \\mathbb{I}_{d_t^v < 0} [v_t]_+ \\\\\n",
    "&=\n",
    "\\mathbb{I}_{d_t^u > 0} \\mathbb{I}_{\\tilde{u_t} > 0} \\min(Z_t^u,|u_t|) - \\mathbb{I}_{d_t^u > 0}\\mathbb{I}_{\\tilde{u_t} < 0} |u_t|\n",
    "+\n",
    "\\mathbb{I}_{d_t^v < 0} \\mathbb{I}_{\\tilde{v_t} < 0}\\min(Z_t^v,|v_t|) - \\mathbb{I}_{d_t^v < 0} \\mathbb{I}_{\\tilde{v_t} > 0} |v_t|\n",
    "\\end{align*}\n",
    "$$\n"
   ]
  },
  {
   "cell_type": "markdown",
   "metadata": {},
   "source": [
    "Let $c_t = \\min(Z_t^u, Z_t^v, |u_t|,|v_t|) \\ge 0$ Then \n",
    "\n",
    "$$\n",
    "\\begin{align*}\n",
    "\\text{PO}_t &\\ge c_t \\left(\n",
    "\\mathbb{I}_{d_t^u > 0} \\mathbb{I}_{\\tilde{u_t} > 0}  - \\mathbb{I}_{d_t^u > 0}\\mathbb{I}_{\\tilde{u_t} < 0}\n",
    "+\n",
    "\\mathbb{I}_{d_t^v < 0} \\mathbb{I}_{\\tilde{v_t} < 0} - \\mathbb{I}_{d_t^v < 0} \\mathbb{I}_{\\tilde{v_t} > 0}\n",
    "\\right)\\\\\n",
    "&=\n",
    "c_t \\left(\\mathbb{I}_{\\tilde{u_t} > 0} + \\mathbb{I}_{\\tilde{v_t} < 0} - \n",
    "\\mathbb{I}_{d_t^u < 0} \\mathbb{I}_{\\tilde{u_t} > 0}  - \\mathbb{I}_{d_t^u > 0}\\mathbb{I}_{\\tilde{u_t} < 0}\n",
    "-\n",
    "\\mathbb{I}_{d_t^v > 0} \\mathbb{I}_{\\tilde{v_t} < 0} - \\mathbb{I}_{d_t^v < 0} \\mathbb{I}_{\\tilde{v_t} > 0}\n",
    "\\right) \\\\\n",
    "&=\n",
    "c_t \\left( \\mathbb{I}_{\\tilde{u_t} > 0} + \\mathbb{I}_{\\tilde{v_t} < 0} - \\mathbb{I}_{d_t^u \\neq \\tilde{u_t}} - \\mathbb{I}_{d_t^v \\neq \\tilde{v_t}}\n",
    "\\right)\n",
    "\\end{align*}\n",
    "$$\n"
   ]
  },
  {
   "cell_type": "markdown",
   "metadata": {},
   "source": [
    "Fix $c_t = c > 0$, then the above can be interpreted as follows:  \n",
    "Take the expected value with respect to $u$ and $v$ (since the two series are stationary), the\n",
    "final wealth will be greater than zero when:  \n",
    "$\\mathbb{P}[d^u > 0, u > 0] > \\mathbb{P}[d^u > 0, u < 0]$  and\n",
    "$\\mathbb{P}[d^v < 0, v < 0] > \\mathbb{P}[d^v < 0, v > 0]$.  \n",
    "Hence the priority here will be to correctly build a classifier such that the number of mistakes\n",
    "\n",
    "$$\n",
    "M_T = \n",
    "\\sum_{t=1}^T \\mathbb{I}_{d_t^u \\neq \\tilde{u}_t} + \\mathbb{I}_{d_t^v \\neq \\tilde{v}_t}\n",
    "$$\n",
    "\n",
    "Will be minimized.  \n",
    "\n",
    "### Classificiation\n",
    "I assume linear models for sign prediction: $\\tilde{u}$ is correctly classified whenever $\\tilde{u}(x_1 \\cdot w_1) \\ge 0$, for feature vector $x_1$ and weighs $w_1$, it must be that $|x_1 \\cdot w_1| \\le 1$. The model for $\\tilde{v}$ is defined analogously."
   ]
  },
  {
   "cell_type": "markdown",
   "metadata": {},
   "source": [
    "The loss to minimize at each round is the zero one loss both for $\\tilde{u}$ and $\\tilde{u}$, we can bound the \n",
    "01 loss by the quadratic hinge loss $\\ell(y,\\widehat{y}) = (1 - y\\widehat{y})^2\\mathbb{I}_{y \\neq \\widehat{y}}$"
   ]
  },
  {
   "cell_type": "markdown",
   "metadata": {},
   "source": [
    "Running a vanilla perceptron for classification produces poor results:\n",
    "Suppose that perfect linear separation is achieved, that is there exists a vector $u$ such that when the perceptron\n",
    "is run the cumulative hinge loss $\\sum_{t=1}^T (1 - y_t u \\cdot x_t)_+ = 0$, then\n",
    "\n",
    "$$\\text{#Mistakes made by the perceptron} \\le \\left( \\frac{\\max_{t=1,\\ldots,T} \\|x_t\\|_2 \\|u\\|_2}{\\min_{\n",
    "t=1,\\ldots, T } y_t  u \\cdot x_t } \\right)^2 \n",
    "$$"
   ]
  },
  {
   "cell_type": "markdown",
   "metadata": {},
   "source": [
    "If $w_t$ happens to be the vector that separates instances $(y_1,x_1), \\ldots, (y_t,x_t)$ then the perceptron encounters the greatest trouble if the next instance $(y_{t+1},x_{t+1})$ is such that $x_t$ is high in magnitude \n",
    "$\\|x_t\\|_2$ or $x_t$ forms an approx 90 degree angle with $w_t$. \n",
    "This means that to fool the perceptron at $t+1$ you can feed it with correlated feature vectors $x_1,\\ldots, x_t$ and\n",
    "then a large uncorrelated $x_{t+1}$ at $t+1$.  \n",
    "If the all the feature vectors $x_1, \\ldots, x_T$ are whitened, that is premultiplied by matrix $M^{-1/2}$, where  $M = \\sum_{s=1}^t x_s x_s^T$ and also \n",
    "if the perceptron produces vector $M^{1/2}w_t$ then, mistakes made up to $t$\n",
    "are bounded by \n",
    "\n",
    "$$\n",
    "\\left(\n",
    "\\frac{\\max_{s=1,\\ldots,t}(x_s^T M^{-1} x_s) (w_t^T M^{1} w_t)}{\\min_{s=1,\\ldots,t} y_s w_t \\cdot x_s}\n",
    "\\right)^2\n",
    "$$\n",
    "\n",
    "The data is separated by the same unnormalized margin $\\min_t y_t u \\cdot x_t$"
   ]
  },
  {
   "cell_type": "markdown",
   "metadata": {},
   "source": [
    "Whitening the data has the effect of minimize the 'leaning' of $w_t$ towards correlated $x_1,\\ldots, x_t$, producing less mistakes. "
   ]
  },
  {
   "cell_type": "code",
   "execution_count": 3,
   "metadata": {},
   "outputs": [
    {
     "data": {
      "text/html": [
       "<div>\n",
       "<style scoped>\n",
       "    .dataframe tbody tr th:only-of-type {\n",
       "        vertical-align: middle;\n",
       "    }\n",
       "\n",
       "    .dataframe tbody tr th {\n",
       "        vertical-align: top;\n",
       "    }\n",
       "\n",
       "    .dataframe thead th {\n",
       "        text-align: right;\n",
       "    }\n",
       "</style>\n",
       "<table border=\"1\" class=\"dataframe\">\n",
       "  <thead>\n",
       "    <tr style=\"text-align: right;\">\n",
       "      <th></th>\n",
       "      <th>ask</th>\n",
       "      <th>bid</th>\n",
       "      <th>ask_size</th>\n",
       "      <th>bid_size</th>\n",
       "      <th>sell_qty</th>\n",
       "      <th>buy_qty</th>\n",
       "      <th>ofi</th>\n",
       "    </tr>\n",
       "    <tr>\n",
       "      <th>timestamp</th>\n",
       "      <th></th>\n",
       "      <th></th>\n",
       "      <th></th>\n",
       "      <th></th>\n",
       "      <th></th>\n",
       "      <th></th>\n",
       "      <th></th>\n",
       "    </tr>\n",
       "  </thead>\n",
       "  <tbody>\n",
       "    <tr>\n",
       "      <th>2021-02-25 17:01:31.296035</th>\n",
       "      <td>50531.85</td>\n",
       "      <td>50528.71</td>\n",
       "      <td>0.260000</td>\n",
       "      <td>1.000000</td>\n",
       "      <td>15.656524</td>\n",
       "      <td>23.955780</td>\n",
       "      <td>0.000000</td>\n",
       "    </tr>\n",
       "    <tr>\n",
       "      <th>2021-02-25 17:01:36.794538</th>\n",
       "      <td>50530.12</td>\n",
       "      <td>50520.55</td>\n",
       "      <td>0.057893</td>\n",
       "      <td>0.435920</td>\n",
       "      <td>2.459863</td>\n",
       "      <td>4.371013</td>\n",
       "      <td>-0.493813</td>\n",
       "    </tr>\n",
       "    <tr>\n",
       "      <th>2021-02-25 17:01:42.284479</th>\n",
       "      <td>50527.46</td>\n",
       "      <td>50527.45</td>\n",
       "      <td>0.262615</td>\n",
       "      <td>0.740739</td>\n",
       "      <td>0.252142</td>\n",
       "      <td>1.297689</td>\n",
       "      <td>-1.003354</td>\n",
       "    </tr>\n",
       "    <tr>\n",
       "      <th>2021-02-25 17:01:47.767470</th>\n",
       "      <td>50546.39</td>\n",
       "      <td>50543.52</td>\n",
       "      <td>0.178088</td>\n",
       "      <td>0.060905</td>\n",
       "      <td>4.029092</td>\n",
       "      <td>1.010848</td>\n",
       "      <td>0.117183</td>\n",
       "    </tr>\n",
       "    <tr>\n",
       "      <th>2021-02-25 17:01:53.686262</th>\n",
       "      <td>50516.41</td>\n",
       "      <td>50512.42</td>\n",
       "      <td>0.007930</td>\n",
       "      <td>0.231455</td>\n",
       "      <td>2.226948</td>\n",
       "      <td>1.904901</td>\n",
       "      <td>-0.239385</td>\n",
       "    </tr>\n",
       "  </tbody>\n",
       "</table>\n",
       "</div>"
      ],
      "text/plain": [
       "                                 ask       bid  ask_size  bid_size   sell_qty  \\\n",
       "timestamp                                                                       \n",
       "2021-02-25 17:01:31.296035  50531.85  50528.71  0.260000  1.000000  15.656524   \n",
       "2021-02-25 17:01:36.794538  50530.12  50520.55  0.057893  0.435920   2.459863   \n",
       "2021-02-25 17:01:42.284479  50527.46  50527.45  0.262615  0.740739   0.252142   \n",
       "2021-02-25 17:01:47.767470  50546.39  50543.52  0.178088  0.060905   4.029092   \n",
       "2021-02-25 17:01:53.686262  50516.41  50512.42  0.007930  0.231455   2.226948   \n",
       "\n",
       "                              buy_qty       ofi  \n",
       "timestamp                                        \n",
       "2021-02-25 17:01:31.296035  23.955780  0.000000  \n",
       "2021-02-25 17:01:36.794538   4.371013 -0.493813  \n",
       "2021-02-25 17:01:42.284479   1.297689 -1.003354  \n",
       "2021-02-25 17:01:47.767470   1.010848  0.117183  \n",
       "2021-02-25 17:01:53.686262   1.904901 -0.239385  "
      ]
     },
     "execution_count": 3,
     "metadata": {},
     "output_type": "execute_result"
    }
   ],
   "source": [
    "import pandas as pd\n",
    "import numpy as np\n",
    "import matplotlib.pyplot as plt\n",
    "import seaborn as sns\n",
    "\n",
    "# plt.rc('figure',figsize=(16,9),dpi=80)\n",
    "\n",
    "df = pd.read_csv('data/raw/data_binance.csv')\n",
    "df.columns=['timestamp','ask','bid','ask_size','bid_size','sell_qty','buy_qty']\n",
    "df.timestamp = pd.to_datetime(df.timestamp)\n",
    "# df = df.set_index('timestamp').resample('10s').apply({'bid': np.mean, \n",
    "#                                                       'ask': np.mean,\n",
    "#                                                       'bid_size': np.sum,\n",
    "#                                                       'ask_size': np.sum,\n",
    "#                                                       'sell_qty': np.sum,\n",
    "#                                                       'buy_qty': np.sum\n",
    "#                                                      })\n",
    "df.set_index('timestamp',inplace=True)\n",
    "df['ofi'] = (df.ask.diff() >= 0).astype(int) * df.ask_size.apply(np.abs) -\\\n",
    "              (df.ask.diff() <= 0).astype(int) * df.ask_size.apply(np.abs) -\\\n",
    "              (df.bid.diff() >= 0).astype(int) * df.bid_size.apply(np.abs) -\\\n",
    "              (df.bid.diff() <= 0).astype(int) * df.bid_size.apply(np.abs) \n",
    "df.head()"
   ]
  },
  {
   "cell_type": "code",
   "execution_count": 4,
   "metadata": {},
   "outputs": [],
   "source": [
    "X1 = df.copy()\n",
    "X2 = df.copy()\n",
    "X1['u'] = df.bid.shift() - df.ask\n",
    "X2['v'] = df.ask.shift() - df.bid"
   ]
  },
  {
   "cell_type": "code",
   "execution_count": 5,
   "metadata": {},
   "outputs": [
    {
     "data": {
      "text/html": [
       "<div>\n",
       "<style scoped>\n",
       "    .dataframe tbody tr th:only-of-type {\n",
       "        vertical-align: middle;\n",
       "    }\n",
       "\n",
       "    .dataframe tbody tr th {\n",
       "        vertical-align: top;\n",
       "    }\n",
       "\n",
       "    .dataframe thead th {\n",
       "        text-align: right;\n",
       "    }\n",
       "</style>\n",
       "<table border=\"1\" class=\"dataframe\">\n",
       "  <thead>\n",
       "    <tr style=\"text-align: right;\">\n",
       "      <th></th>\n",
       "      <th>ask</th>\n",
       "      <th>bid</th>\n",
       "      <th>ask_size</th>\n",
       "      <th>bid_size</th>\n",
       "      <th>sell_qty</th>\n",
       "      <th>buy_qty</th>\n",
       "      <th>ofi</th>\n",
       "      <th>u</th>\n",
       "      <th>u_prev</th>\n",
       "    </tr>\n",
       "    <tr>\n",
       "      <th>timestamp</th>\n",
       "      <th></th>\n",
       "      <th></th>\n",
       "      <th></th>\n",
       "      <th></th>\n",
       "      <th></th>\n",
       "      <th></th>\n",
       "      <th></th>\n",
       "      <th></th>\n",
       "      <th></th>\n",
       "    </tr>\n",
       "  </thead>\n",
       "  <tbody>\n",
       "    <tr>\n",
       "      <th>2021-02-25 17:01:31.296035</th>\n",
       "      <td>50531.85</td>\n",
       "      <td>50528.71</td>\n",
       "      <td>0.260000</td>\n",
       "      <td>1.000000</td>\n",
       "      <td>15.656524</td>\n",
       "      <td>23.955780</td>\n",
       "      <td>0.000000</td>\n",
       "      <td>NaN</td>\n",
       "      <td>NaN</td>\n",
       "    </tr>\n",
       "    <tr>\n",
       "      <th>2021-02-25 17:01:36.794538</th>\n",
       "      <td>50530.12</td>\n",
       "      <td>50520.55</td>\n",
       "      <td>0.057893</td>\n",
       "      <td>0.435920</td>\n",
       "      <td>2.459863</td>\n",
       "      <td>4.371013</td>\n",
       "      <td>-0.493813</td>\n",
       "      <td>-1.41</td>\n",
       "      <td>NaN</td>\n",
       "    </tr>\n",
       "    <tr>\n",
       "      <th>2021-02-25 17:01:42.284479</th>\n",
       "      <td>50527.46</td>\n",
       "      <td>50527.45</td>\n",
       "      <td>0.262615</td>\n",
       "      <td>0.740739</td>\n",
       "      <td>0.252142</td>\n",
       "      <td>1.297689</td>\n",
       "      <td>-1.003354</td>\n",
       "      <td>-6.91</td>\n",
       "      <td>-1.41</td>\n",
       "    </tr>\n",
       "    <tr>\n",
       "      <th>2021-02-25 17:01:47.767470</th>\n",
       "      <td>50546.39</td>\n",
       "      <td>50543.52</td>\n",
       "      <td>0.178088</td>\n",
       "      <td>0.060905</td>\n",
       "      <td>4.029092</td>\n",
       "      <td>1.010848</td>\n",
       "      <td>0.117183</td>\n",
       "      <td>-18.94</td>\n",
       "      <td>-6.91</td>\n",
       "    </tr>\n",
       "    <tr>\n",
       "      <th>2021-02-25 17:01:53.686262</th>\n",
       "      <td>50516.41</td>\n",
       "      <td>50512.42</td>\n",
       "      <td>0.007930</td>\n",
       "      <td>0.231455</td>\n",
       "      <td>2.226948</td>\n",
       "      <td>1.904901</td>\n",
       "      <td>-0.239385</td>\n",
       "      <td>27.11</td>\n",
       "      <td>-18.94</td>\n",
       "    </tr>\n",
       "  </tbody>\n",
       "</table>\n",
       "</div>"
      ],
      "text/plain": [
       "                                 ask       bid  ask_size  bid_size   sell_qty  \\\n",
       "timestamp                                                                       \n",
       "2021-02-25 17:01:31.296035  50531.85  50528.71  0.260000  1.000000  15.656524   \n",
       "2021-02-25 17:01:36.794538  50530.12  50520.55  0.057893  0.435920   2.459863   \n",
       "2021-02-25 17:01:42.284479  50527.46  50527.45  0.262615  0.740739   0.252142   \n",
       "2021-02-25 17:01:47.767470  50546.39  50543.52  0.178088  0.060905   4.029092   \n",
       "2021-02-25 17:01:53.686262  50516.41  50512.42  0.007930  0.231455   2.226948   \n",
       "\n",
       "                              buy_qty       ofi      u  u_prev  \n",
       "timestamp                                                       \n",
       "2021-02-25 17:01:31.296035  23.955780  0.000000    NaN     NaN  \n",
       "2021-02-25 17:01:36.794538   4.371013 -0.493813  -1.41     NaN  \n",
       "2021-02-25 17:01:42.284479   1.297689 -1.003354  -6.91   -1.41  \n",
       "2021-02-25 17:01:47.767470   1.010848  0.117183 -18.94   -6.91  \n",
       "2021-02-25 17:01:53.686262   1.904901 -0.239385  27.11  -18.94  "
      ]
     },
     "execution_count": 5,
     "metadata": {},
     "output_type": "execute_result"
    }
   ],
   "source": [
    "X1['u_prev'] = X1.u.shift(1)\n",
    "X2['v_prev'] = X2.v.shift(1)\n",
    "# X1['runs'] = X1.fillna(0).u.apply(np.sign).cumcount()\n",
    "X1.head()"
   ]
  },
  {
   "cell_type": "code",
   "execution_count": 6,
   "metadata": {},
   "outputs": [],
   "source": [
    "x1 = X1.dropna().drop('u',axis=1).values\n",
    "x2 = X2.dropna().drop('v',axis=1).values\n",
    "\n",
    "T,p = x1.shape\n",
    "\n",
    "u = X1.dropna().u.values\n",
    "v = X2.dropna().v.values\n",
    "\n",
    "w1 = np.zeros((T,p))\n",
    "w2 = np.zeros((T,p))\n",
    "_w1 = np.zeros((T,p))\n",
    "_w2 = np.zeros((T,p))"
   ]
  },
  {
   "cell_type": "code",
   "execution_count": 7,
   "metadata": {},
   "outputs": [
    {
     "name": "stdout",
     "output_type": "stream",
     "text": [
      "accuracy 0.81\n"
     ]
    }
   ],
   "source": [
    "DEBUG = 1\n",
    "\n",
    "wealth = np.zeros(T)\n",
    "eps = 0\n",
    "\n",
    "def loss1(sign, t, eps = 30.):\n",
    "    if sign > 0:\n",
    "        return np.minimum(eps, sign*u[t]) \n",
    "    else:\n",
    "        return 0\n",
    "def loss2(sign, t ,eps = 30.):\n",
    "    if sign < 0:\n",
    "        return np.minimum(eps, sign * v[t]) \n",
    "    else:\n",
    "        return 0\n",
    "\n",
    "\n",
    "eps_u = np.ones(T) * 100\n",
    "eps_v = np.ones(T) * 100\n",
    "\n",
    "a = 3\n",
    "\n",
    "M1 = a * np.eye(p)\n",
    "M1_inv = 1/a * np.eye(p)\n",
    "M2 = a * np.eye(p)\n",
    "M2_inv = 1/a * np.eye(p)\n",
    "\n",
    "errors = 0\n",
    "\n",
    "for t in range(T-1):\n",
    "    # prediction\n",
    "    y_pred1 = np.sign(np.dot(w1[t],x1[t]))\n",
    "    y_pred2 = np.sign(np.dot(w2[t],x2[t])) if y_pred1 !=1 else 1\n",
    "\n",
    "    # suffer loss \n",
    "    gains1 = loss1(y_pred1, t, 10)\n",
    "    gains2 = loss2(y_pred2, t, 10)\n",
    "    wealth[t+1] = wealth[t] + gains1 + gains2\n",
    "\n",
    "    # SOP Update\n",
    "    mistake1 = y_pred1 * np.sign(u[t]) <= 0\n",
    "    mistake2 = y_pred2 * np.sign(v[t]) <= 0\n",
    "    \n",
    "    if DEBUG:\n",
    "        errors += int(mistake1) + int(mistake2)\n",
    "    \n",
    "    grad1 = x1[t] * np.sign(u[t]) * int(mistake1)\n",
    "    grad2 = x2[t] * np.sign(v[t]) * int(mistake2)\n",
    "\n",
    "    increase_1 = np.outer(x1[t],x1[t]) * int(mistake1)\n",
    "    increase_2 = np.outer(x2[t],x2[t]) * int(mistake2)\n",
    "\n",
    "    M1 = M1 + increase_1\n",
    "    M1_inv = M1_inv - M1_inv.dot(increase_1).dot(M1_inv)/(1+ x1[t].dot(M1_inv).dot(x1[t]))\n",
    "    M2 = M1 + increase_2\n",
    "    M2_inv = M2_inv - M2_inv.dot(increase_2).dot(M2_inv)/(1+ x2[t].dot(M2_inv).dot(x2[t]))\n",
    "    \n",
    "    ### update \n",
    "    w1[t+1] = M1_inv.dot(_w1[t])\n",
    "    _w1[t+1] = _w1[t] + grad1\n",
    "    w2[t+1] = M2_inv.dot(_w2[t])\n",
    "    _w2[t+1] = _w2[t] + grad2\n",
    "\n",
    "print(f'accuracy {np.round(1-errors/(2*T),2)}')"
   ]
  },
  {
   "cell_type": "code",
   "execution_count": 8,
   "metadata": {},
   "outputs": [
    {
     "name": "stderr",
     "output_type": "stream",
     "text": [
      "<ipython-input-8-7796c67040b2>:3: DeprecationWarning: The default dtype for empty Series will be 'object' instead of 'float64' in a future version. Specify a dtype explicitly to silence this warning.\n",
      "  pd.Series()\n"
     ]
    },
    {
     "data": {
      "text/plain": [
       "Series([], dtype: float64)"
      ]
     },
     "execution_count": 8,
     "metadata": {},
     "output_type": "execute_result"
    },
    {
     "data": {
      "image/png": "[encoded data removed]",
      "text/plain": [
       "<Figure size 720x432 with 1 Axes>"
      ]
     },
     "metadata": {
      "needs_background": "light"
     },
     "output_type": "display_data"
    }
   ],
   "source": [
    "plt.figure(figsize=(10,6 ))\n",
    "pd.Series(wealth,index=X1.dropna().index).plot()\n",
    "pd.Series()"
   ]
  },
  {
   "cell_type": "code",
   "execution_count": 9,
   "metadata": {},
   "outputs": [
    {
     "data": {
      "image/png": "[encoded data removed]",
      "text/plain": [
       "<Figure size 720x1152 with 6 Axes>"
      ]
     },
     "metadata": {
      "needs_background": "light"
     },
     "output_type": "display_data"
    }
   ],
   "source": [
    "# why the whitening perceptron does work?\n",
    "import statsmodels.api as sm\n",
    "cols = ['ask_size','bid_size','sell_qty','buy_qty','ofi','u']\n",
    "fig, ax = plt.subplots(len(cols),1,figsize=(10,16))\n",
    "for i in range(len(cols)):\n",
    "    _ = sm.graphics.tsa.plot_acf(X1.dropna()[cols[i]], ax=ax[i])\n",
    "    ax[i].set_title(cols[i])"
   ]
  },
  {
   "cell_type": "markdown",
   "metadata": {},
   "source": [
    "### Why the whitened perceptron works\n",
    "* Inspecting the acfplots above we see that features presents significant autocorrelation, which intuitively implies that $x_t$ is correlated with $x_{t-1},x_{t-2}$ and so on. Suppose the binary classification problems both for the sign of $u_t$ and $v_t$ are \n",
    "linearly separable. The vanilla perceptron will tilt the separating hyperplanes towards all the previous values \n",
    "for $x_t$ leaving the perceptron prone to mistakes, when a large uncorrelated feature $x_{t+1}$ arrives\n",
    "\n",
    "* The feature vectors have values that greatly differ in magnitude, the rescaling is recommended, and in the\n",
    "2nd order perceptron rescaling is obtained by premultiplying by $M^{-1/2}\n",
    "\n",
    "The bound on the mistakes made by the second order perceptron is given by :\n",
    "\n",
    "$$\n",
    "\\sum_{t=1}^T \\mathbb{I}_{d_t^u \\neq \\tilde{u}} \\le \\inf_{y > 0} \\min_{w \\in \\mathbb{R}^d} \\frac{L_{\\gamma,T}(w)}{\\gamma}  + \\frac{1}{\\gamma} \\sqrt{\n",
    "\\left( a \\|w\\|^2 + w^T A_n w \\right) \\sum_{i=1}^d \\ln \\left(1 + \\frac{\\lambda_i}{a} \\right)\n",
    "}\n",
    "$$\n",
    "\n",
    "where:\n",
    "$$\n",
    "L_{\\gamma,T}(w) = \\sum_{t=1}^T(\\gamma - \\tilde{u_t} w \\cdot x_t)^2 \\mathbb{I}_{y_t w \\cdot x_t < 0} \n",
    "$$"
   ]
  },
  {
   "cell_type": "markdown",
   "metadata": {},
   "source": [
    "## Magnitude prediction\n",
    "Now that we have choosen a decent classifier, we have to decide the offset (number of ticks) at which we place\n",
    "the market order. When decent accuracy is achieved, the agent is practically able to make a profit after $T$ trading\n",
    "rounds.  \n",
    "\n",
    "The closed form expression for the profit would encourage any forecaster, to shoot for the highest value of $Z_t$,\n",
    "since max profit is capped at $u_{t+1}$ or $v_{t+1}$ for any correct prediction.  \n",
    "In real world scenario, in case of correct price direction prediction, overshooting the value of $u_t$ (for example) will most definitively lead to an unfilled order. The agent, however, can potentially recover from such a situation\n",
    "(by simply cancelling the limit order \n",
    "and issuing a market order at $a_t + u_{t+1}$ and eventually paying extra taker fees).  \n",
    "We can however cast the problem into prediction with expert advice. To each expert we associate a value $z_i$\n",
    "in a equally spaced partition range $\\Pi = \\{z_{min}, z_{min}+\\delta, \\ldots, z_{max} - \\delta, z_{max}\\}$ where $\\delta$ is\n",
    "the tick size, and $z_{min},z_{max}$ are predetermined parameters. "
   ]
  },
  {
   "cell_type": "markdown",
   "metadata": {},
   "source": [
    "In particular to discourage expert $\\epsilon$ to not exceed $|u_t|$ we can reward each expert with gain $\\min(\\epsilon, \n",
    "|u_t|)$ if $\\epsilon \\le |u_t|$ and $0$ otherwise. \n",
    "Let $H_{i,t}$ be the cumulative reward associated to the $i$-th expert up to time $t$, that is:\n",
    "\n",
    "$$\n",
    "H_{i,t} = \\sum_{s =1}^t \\underbrace{\\min(z_{i}, |u_s|) \\mathbb{I}_{z_{i} \\le |u_s|}}_{h_{s,i}}\n",
    "$$\n",
    "\n",
    "The forecaster then will issue a limit order at price:\n",
    "\n",
    "$$\n",
    "z_t = \\sum_{i=1}^N  \\frac{z_i H_{i,t}}{\\sum_{i=1}^N H_{i,t}} = \\sum_{i=1}^N z_i p_{t,i}\n",
    "$$\n",
    "\n",
    "Where $N = |\\Pi|$ is the size of the partition. $p_t$ is a probability distribution on the $N$ dimensional simplex.\n",
    "The above algorithm is equivalent to the Hedge algorithm with weights given by $\\exp(\\log \\frac{H_{t,i}}{H_{t-1,i}})$\n",
    "$i = 1\\ldots N$.  "
   ]
  },
  {
   "cell_type": "code",
   "execution_count": 10,
   "metadata": {},
   "outputs": [
    {
     "name": "stdout",
     "output_type": "stream",
     "text": [
      "accuracy 0.81\n"
     ]
    }
   ],
   "source": [
    "x1 = X1.dropna().drop('u',axis=1).values\n",
    "x2 = X2.dropna().drop('v',axis=1).values\n",
    "\n",
    "T,p = x1.shape\n",
    "\n",
    "w1 = np.zeros((T,p))\n",
    "w2 = np.zeros((T,p))\n",
    "_w1 = np.zeros((T,p))\n",
    "_w2 = np.zeros((T,p))\n",
    "\n",
    "errors = 0\n",
    "epss = np.arange(20.,30.,1.)\n",
    "d = epss.shape[0]\n",
    "\n",
    "mix1 = np.ones((T,d))/d\n",
    "mix2 = np.ones((T,d))/d\n",
    "\n",
    "prec1 = np.ones((T,d)) * 1e-8\n",
    "prec2 = np.ones((T,d)) * 1e-8\n",
    "\n",
    "a = 3\n",
    "\n",
    "M1 = a * np.eye(p)\n",
    "M1_inv = 1/a * np.eye(p)\n",
    "M2 = a * np.eye(p)\n",
    "M2_inv = 1/a * np.eye(p)\n",
    "\n",
    "lam = .03\n",
    "\n",
    "def loss1(sign, t, eps = 3.):\n",
    "    if sign > 0:\n",
    "        return np.minimum(eps, sign*u[t]) \n",
    "    else:\n",
    "        return 0\n",
    "def loss2(sign, t ,eps = 3.):\n",
    "    if sign < 0:\n",
    "        return np.minimum(eps, sign * v[t]) \n",
    "    else:\n",
    "        return 0\n",
    "    \n",
    "def backtest(init_cap = 300, eta1 = .1, eta2 = .1):\n",
    "    global errors,M1,M2,M1_inv,M2_inv\n",
    "    wealth = np.zeros(T)\n",
    "    wealth[0] = init_cap\n",
    "    for t in range(T-1):\n",
    "        # prediction\n",
    "        y_pred1 = np.sign(np.dot(w1[t],x1[t]))\n",
    "        y_pred2 = np.sign(np.dot(w2[t],x2[t])) if y_pred1 !=1 else 1\n",
    "\n",
    "        # experts update\n",
    "        for i in range(d):\n",
    "            prec1[t+1,i] = prec1[t,i] + epss[i] if epss[i] <= np.abs(u[t]) else 1e-8\n",
    "            prec2[t+1,i] = prec2[t,i] + epss[i] if epss[i] <= np.abs(v[t]) else 1e-8\n",
    "            \n",
    "            \n",
    "        # forecaster prec\n",
    "        e1 = (prec1[t]/prec1[t].sum()).dot(epss)\n",
    "        e2 = (prec2[t]/prec2[t].sum()).dot(epss)\n",
    "        \n",
    "        g1 = loss1(y_pred1,t, e1)\n",
    "        g2 = loss2(y_pred2,t, e2)\n",
    "        \n",
    "        wealth[t+1] = wealth[t] + g1 + g2\n",
    "\n",
    "        # SOP Update\n",
    "        mistake1 = y_pred1 * np.sign(u[t]) <= 0\n",
    "        mistake2 = y_pred2 * np.sign(v[t]) <= 0\n",
    "\n",
    "        if DEBUG:\n",
    "            errors += int(mistake1) + int(mistake2)\n",
    "\n",
    "        grad1 = x1[t] * np.sign(u[t]) * int(mistake1)\n",
    "        grad2 = x2[t] * np.sign(v[t]) * int(mistake2)\n",
    "\n",
    "        increase_1 = np.outer(x1[t],x1[t]) * int(mistake1)\n",
    "        increase_2 = np.outer(x2[t],x2[t]) * int(mistake2)\n",
    "\n",
    "        M1 = M1 + increase_1\n",
    "        M1_inv = M1_inv - M1_inv.dot(increase_1).dot(M1_inv)/(1+ x1[t].dot(M1_inv).dot(x1[t]))\n",
    "        M2 = M1 + increase_2\n",
    "        M2_inv = M2_inv - M2_inv.dot(increase_2).dot(M2_inv)/(1+ x2[t].dot(M2_inv).dot(x2[t]))\n",
    "\n",
    "        ### update \n",
    "        w1[t+1] = M1_inv.dot(_w1[t])\n",
    "        _w1[t+1] = _w1[t] + grad1\n",
    "        w2[t+1] = M2_inv.dot(_w2[t])\n",
    "        _w2[t+1] = _w2[t] + grad2\n",
    "\n",
    "    if DEBUG:\n",
    "        print(f'accuracy {np.round(1-errors/(2*T),2)}')\n",
    "    return wealth\n",
    "            \n",
    "wealth = backtest()"
   ]
  },
  {
   "cell_type": "code",
   "execution_count": 11,
   "metadata": {},
   "outputs": [
    {
     "data": {
      "text/plain": [
       "<matplotlib.axes._subplots.AxesSubplot at 0x12fbd5730>"
      ]
     },
     "execution_count": 11,
     "metadata": {},
     "output_type": "execute_result"
    },
    {
     "data": {
      "image/png": "[encoded data removed]",
      "text/plain": [
       "<Figure size 432x288 with 1 Axes>"
      ]
     },
     "metadata": {
      "needs_background": "light"
     },
     "output_type": "display_data"
    }
   ],
   "source": [
    "pd.Series(wealth).plot()"
   ]
  },
  {
   "cell_type": "code",
   "execution_count": 12,
   "metadata": {},
   "outputs": [],
   "source": [
    "# from empyrical import cum_returns, max_drawdown, calmar_ratio, sharpe_ratio\n",
    "rets = pd.Series(wealth,index=X1.dropna().index).pct_change().dropna()\n",
    "max_drawdown = rets.min()\n",
    "sharpe_ratio = rets.mean()/rets.std()\n",
    "omega_ratio = rets.mean()/(-max_drawdown)"
   ]
  },
  {
   "cell_type": "code",
   "execution_count": 13,
   "metadata": {},
   "outputs": [
    {
     "data": {
      "text/plain": [
       "(-0.12929577185172259, 0.11911682360308992, 0.010441491818322077)"
      ]
     },
     "execution_count": 13,
     "metadata": {},
     "output_type": "execute_result"
    }
   ],
   "source": [
    "max_drawdown, sharpe_ratio, omega_ratio"
   ]
  },
  {
   "cell_type": "markdown",
   "metadata": {},
   "source": [
    "### Commenti\n",
    "La soluzione mi sembra soddisfacente.\n",
    "Il livello di rischio (drawdown) e' abbastanza contenuto. Ho cambiato approccio rispetto, visto che praticamente ho fatto due problemi di classificazione in parallelo, invece che uno come in precedenza."
   ]
  },
  {
   "cell_type": "code",
   "execution_count": null,
   "metadata": {},
   "outputs": [],
   "source": []
  }
 ],
 "metadata": {
  "kernelspec": {
   "display_name": "Python (research)",
   "language": "python",
   "name": "research"
  },
  "language_info": {
   "codemirror_mode": {
    "name": "ipython",
    "version": 3
   },
   "file_extension": ".py",
   "mimetype": "text/x-python",
   "name": "python",
   "nbconvert_exporter": "python",
   "pygments_lexer": "ipython3",
   "version": "3.8.5"
  }
 },
 "nbformat": 4,
 "nbformat_minor": 4
}
